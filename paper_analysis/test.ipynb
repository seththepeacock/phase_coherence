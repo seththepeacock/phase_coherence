{
 "cells": [
  {
   "cell_type": "code",
   "execution_count": 24,
   "id": "16479ce1",
   "metadata": {},
   "outputs": [
    {
     "name": "stdout",
     "output_type": "stream",
     "text": [
      "The autoreload extension is already loaded. To reload it, use:\n",
      "  %reload_ext autoreload\n"
     ]
    }
   ],
   "source": [
    "%load_ext autoreload\n",
    "%autoreload\n",
    "from nddho_generator import nddho_generator\n",
    "import phaseco as pc\n",
    "import matplotlib.pyplot as plt\n",
    "from scipy.signal import correlate, get_window\n",
    "from scipy.optimize import curve_fit\n",
    "import numpy as np\n",
    "from N_xi_fit_funcs import *\n",
    "os.chdir(r\"C:\\Users\\setht\\Dropbox\\Citadel\\GitHub\\phase-coherence\")"
   ]
  },
  {
   "cell_type": "code",
   "execution_count": 33,
   "id": "49363c43",
   "metadata": {},
   "outputs": [],
   "source": [
    "wf = np.random.normal(0, 1, 60*44100)"
   ]
  },
  {
   "cell_type": "code",
   "execution_count": 34,
   "id": "823ab191",
   "metadata": {},
   "outputs": [
    {
     "name": "stdout",
     "output_type": "stream",
     "text": [
      "delta_xi=xi_min=hop=220, so each xi is an integer num of segs, so we just need a single stft per xi! NICE\n",
      "...and static windowing means we can turbo-turbo boost!\n"
     ]
    },
    {
     "name": "stderr",
     "output_type": "stream",
     "text": [
      "100%|██████████| 2/2 [00:01<00:00,  1.47it/s]\n"
     ]
    }
   ],
   "source": [
    "xis = {'xi_min_s': 0.005, 'xi_max_s':0.01, 'delta_xi_s': 0.005}\n",
    "fs = 44100\n",
    "\n",
    "hop = round(0.005*fs)\n",
    "cgram = get_colossogram(wf, fs, xis, pw=False, tau=2**12, hop=hop, win_meth={'method':'static', 'win_type':'boxcar'}, test=False)[-1]\n"
   ]
  },
  {
   "cell_type": "code",
   "execution_count": 35,
   "id": "ccc82e47",
   "metadata": {},
   "outputs": [
    {
     "name": "stdout",
     "output_type": "stream",
     "text": [
      "delta_xi=xi_min=hop=220, so each xi is an integer num of segs, so we just need a single stft per xi! NICE\n"
     ]
    },
    {
     "name": "stderr",
     "output_type": "stream",
     "text": [
      "100%|██████████| 2/2 [00:02<00:00,  1.32s/it]\n"
     ]
    }
   ],
   "source": [
    "xis = {'xi_min_s': 0.005, 'xi_max_s':0.01, 'delta_xi_s': 0.005}\n",
    "fs = 44100\n",
    "hop = round(0.005*fs)\n",
    "cgram2 = get_colossogram(wf, fs, xis, pw=False, tau=2**12, hop=hop, win_meth={'method':'static', 'win_type':'boxcar'}, test=True)[-1]\n"
   ]
  },
  {
   "cell_type": "code",
   "execution_count": 36,
   "id": "ee00476d",
   "metadata": {},
   "outputs": [
    {
     "name": "stdout",
     "output_type": "stream",
     "text": [
      "0.0\n"
     ]
    }
   ],
   "source": [
    "print(np.max(np.abs(cgram-cgram2)))"
   ]
  },
  {
   "cell_type": "code",
   "execution_count": null,
   "id": "b0132b9f",
   "metadata": {},
   "outputs": [],
   "source": []
  }
 ],
 "metadata": {
  "kernelspec": {
   "display_name": "Python 3",
   "language": "python",
   "name": "python3"
  },
  "language_info": {
   "codemirror_mode": {
    "name": "ipython",
    "version": 3
   },
   "file_extension": ".py",
   "mimetype": "text/x-python",
   "name": "python",
   "nbconvert_exporter": "python",
   "pygments_lexer": "ipython3",
   "version": "3.13.5"
  }
 },
 "nbformat": 4,
 "nbformat_minor": 5
}
