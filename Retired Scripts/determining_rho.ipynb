{
 "cells": [
  {
   "cell_type": "code",
   "execution_count": 6,
   "id": "28d958fb",
   "metadata": {},
   "outputs": [],
   "source": [
    "import phaseco as pc\n",
    "from scipy.signal import get_window\n",
    "import numpy as np\n",
    "import matplotlib.pyplot as plt"
   ]
  },
  {
   "cell_type": "code",
   "execution_count": 14,
   "id": "952a9e7e",
   "metadata": {},
   "outputs": [
    {
     "name": "stdout",
     "output_type": "stream",
     "text": [
      "Finding ideal rho so that the expected spurious coherence at 0.01 is 0.1\n",
      "fs = 44100\n",
      "Final answer: 0.866 for ESC=0.10019405440158198\n",
      "fs = 48000\n",
      "Final answer: 0.866 for ESC=0.10020726238453737\n"
     ]
    }
   ],
   "source": [
    "\n",
    "\n",
    "verbose=False\n",
    "target_xi_s = 0.01\n",
    "target_esc = 0.1\n",
    "rho_step = 0.001\n",
    "win_type = 'flattop'\n",
    "fss = [44100, 48000]\n",
    "\n",
    "\n",
    "# Define func for test\n",
    "get_esc_rho = lambda N_rho_steps: pc.get_exp_spur_coh(tau, xi, pc.get_win({'method':'rho', 'rho':N_rho_steps*rho_step, 'win_type':win_type}, xi=xi, tau=tau)[0])\n",
    "\n",
    "\n",
    "print(f\"Finding ideal rho so that the expected spurious coherence at {target_xi_s} is {target_esc}\")\n",
    "for fs in fss:\n",
    "    # Get xi and tau\n",
    "    match fs:\n",
    "        case 44100:\n",
    "            tau = 3285\n",
    "        case 48000:\n",
    "            tau = 3576\n",
    "        case _:\n",
    "            raise ValueError(\"Invalid fs!\")\n",
    "    xi = int(round(target_xi_s * fs))\n",
    "    print(f\"fs = {fs}\")\n",
    "\n",
    "    \n",
    "    esc = 0\n",
    "    lo = 10\n",
    "    hi = 20\n",
    "    # Search for upper bound\n",
    "    print(\"Initializing exponential search for upper bound\") if verbose else None\n",
    "    print(f\"Lower bound is rho={lo*rho_step}\") if verbose else None\n",
    "    print(f\"Testing {hi*rho_step} as upper bound:\") if verbose else None\n",
    "    \n",
    "    while get_esc_rho(hi) < target_esc:\n",
    "        lo = hi\n",
    "        hi *= 2\n",
    "        print(f\"Testing {hi*rho_step}\") if verbose else None\n",
    "    print(f\"Found upper bound: {hi*rho_step}\") if verbose else None\n",
    "    print(f\"Initializing binary search\") if verbose else None\n",
    "\n",
    "    # Binary search between lo and hi until they are neighbors\n",
    "    while hi - lo > 1:\n",
    "        mid = (lo + hi + 1) // 2\n",
    "        print(f\"[{lo*rho_step}, {hi*rho_step}] --- testing {mid*rho_step}\") if verbose else None\n",
    "        mid_esc = get_esc_rho(mid)\n",
    "        if mid_esc < target_esc:\n",
    "            lo = mid\n",
    "        else:\n",
    "            hi = mid\n",
    "    print(f\"Now we're down to [{lo*rho_step}, {hi*rho_step}]\") if verbose else None\n",
    "    lo_esc = get_esc_rho(lo)\n",
    "    hi_esc = get_esc_rho(hi)\n",
    "    # Check which is closer\n",
    "    if np.abs(hi_esc - target_esc) < np.abs(lo_esc - target_esc):\n",
    "        rho = hi*rho_step\n",
    "        final_esc = hi_esc\n",
    "    else:\n",
    "        rho = lo*rho_step\n",
    "        final_esc = lo_esc\n",
    "\n",
    "    print(f\"Final answer: {rho} for ESC={final_esc}\") "
   ]
  },
  {
   "cell_type": "code",
   "execution_count": 16,
   "id": "f1c54f04",
   "metadata": {},
   "outputs": [
    {
     "name": "stdout",
     "output_type": "stream",
     "text": [
      "tau=3285 is not a power of two, so rounding up to 4096 for nfft (for FFT gains)\n"
     ]
    },
    {
     "name": "stderr",
     "output_type": "stream",
     "text": [
      "  0%|          | 0/10 [00:00<?, ?it/s]"
     ]
    },
    {
     "name": "stderr",
     "output_type": "stream",
     "text": [
      "100%|██████████| 10/10 [00:08<00:00,  1.13it/s]\n"
     ]
    },
    {
     "name": "stdout",
     "output_type": "stream",
     "text": [
      "tau=3285 is not a power of two, so rounding up to 4096 for nfft (for FFT gains)\n"
     ]
    },
    {
     "name": "stderr",
     "output_type": "stream",
     "text": [
      "100%|██████████| 10/10 [00:11<00:00,  1.10s/it]\n"
     ]
    }
   ],
   "source": [
    "\n",
    "\n",
    "\"Verify through white noise waveform\"\n",
    "rng = np.random.default_rng()\n",
    "fs = 44100\n",
    "wf_len_s = 60\n",
    "N = fs * wf_len_s\n",
    "wf = rng.normal(loc=0, scale=1, size=N)\n",
    "# Coherence parameters\n",
    "rho = 0.866\n",
    "win_type = 'flattop'\n",
    "tau = 3285\n",
    "hop = 0.1\n",
    "xis = {'xi_min_s':0.001, 'delta_xi_s':0.001, 'xi_max_s':0.01}\n",
    "win_meth = {'method':'rho', 'win_type':win_type, 'rho':rho}\n",
    "# win_meth = {'method':'zeta', 'win_type':win_type, 'zeta':target_esc}\n",
    "\n",
    "xis_s, f, cgram = pc.get_colossogram(wf, fs, tau=tau, xis=xis, hop=hop, win_meth=win_meth, pw=False)\n",
    "_, _, cgram_pw = pc.get_colossogram(wf, fs, tau=tau, xis=xis, hop=hop, win_meth=win_meth, pw=True)\n",
    "\n",
    "mean = np.mean(cgram, axis=-1)\n",
    "mean_pw = np.mean(cgram_pw, axis=-1)\n",
    "\n",
    "\n",
    "\n",
    "\n",
    "  "
   ]
  },
  {
   "cell_type": "code",
   "execution_count": 17,
   "id": "b8124824",
   "metadata": {},
   "outputs": [
    {
     "data": {
      "image/png": "[encoded data removed]",
      "text/plain": [
       "<Figure size 640x480 with 1 Axes>"
      ]
     },
     "metadata": {},
     "output_type": "display_data"
    }
   ],
   "source": [
    "plt.figure()\n",
    "plt.scatter(xis_s, mean, label=r'$C_\\xi$')\n",
    "plt.scatter(xis_s, mean_pw, label=r'$C_\\xi^P$')\n",
    "plt.plot(xis_s, target_esc*np.ones(len(xis_s)))\n",
    "plt.ylim(0, 1)\n",
    "plt.legend()\n",
    "plt.show()"
   ]
  },
  {
   "cell_type": "code",
   "execution_count": null,
   "id": "37da6f6d",
   "metadata": {},
   "outputs": [],
   "source": []
  }
 ],
 "metadata": {
  "kernelspec": {
   "display_name": "Python 3",
   "language": "python",
   "name": "python3"
  },
  "language_info": {
   "codemirror_mode": {
    "name": "ipython",
    "version": 3
   },
   "file_extension": ".py",
   "mimetype": "text/x-python",
   "name": "python",
   "nbconvert_exporter": "python",
   "pygments_lexer": "ipython3",
   "version": "3.13.5"
  }
 },
 "nbformat": 4,
 "nbformat_minor": 5
}
